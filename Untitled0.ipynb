{
  "nbformat": 4,
  "nbformat_minor": 0,
  "metadata": {
    "colab": {
      "provenance": [],
      "authorship_tag": "ABX9TyNoaY6Yuur70MhiSUf8XhQ7",
      "include_colab_link": true
    },
    "kernelspec": {
      "name": "python3",
      "display_name": "Python 3"
    },
    "language_info": {
      "name": "python"
    }
  },
  "cells": [
    {
      "cell_type": "markdown",
      "metadata": {
        "id": "view-in-github",
        "colab_type": "text"
      },
      "source": [
        "<a href=\"https://colab.research.google.com/github/isabellaJoaquim/Meus_trabalhos/blob/master/Untitled0.ipynb\" target=\"_parent\"><img src=\"https://colab.research.google.com/assets/colab-badge.svg\" alt=\"Open In Colab\"/></a>"
      ]
    },
    {
      "cell_type": "markdown",
      "source": [
        "Introdução ao Python"
      ],
      "metadata": {
        "id": "tvkLIwr0ybV7"
      }
    },
    {
      "cell_type": "markdown",
      "source": [
        "Tipos de dados em Python str - string - \"Maria\" ou 'Maria'\n",
        "\n",
        "list - Lista - [1,2,3,4,5]\n",
        "\n",
        "int - número - 12345\n",
        "\n",
        "float - ponto flutuante - 3.1415\n",
        "\n",
        "bool - booleano - true ou False\n",
        "\n",
        "...\n",
        "\n",
        "Isto esta formatado com código print(\"Olá Mundo!!\") ..."
      ],
      "metadata": {
        "id": "Sx0lEqwPybS8"
      }
    },
    {
      "cell_type": "code",
      "execution_count": 7,
      "metadata": {
        "colab": {
          "base_uri": "https://localhost:8080/"
        },
        "id": "51ZeEaMIxkK5",
        "outputId": "165183c7-f35d-4b14-885c-1e0c6f2fcab0"
      },
      "outputs": [
        {
          "output_type": "stream",
          "name": "stdout",
          "text": [
            "Olá Mundo!!\n"
          ]
        }
      ],
      "source": [
        "#System.out.println(\"Olá Mundo!!\")\n",
        "print(\"Olá Mundo!!\")"
      ]
    },
    {
      "cell_type": "code",
      "source": [
        "#Atribuir valor para uma variavel\n",
        "#em java ->  int x = 10;\n",
        "x = 10\n",
        "print(\"O valor de x é:\", x)"
      ],
      "metadata": {
        "colab": {
          "base_uri": "https://localhost:8080/"
        },
        "id": "XszjmsmOyh7k",
        "outputId": "8617300d-161f-48f5-80bd-f66d3d5012a3"
      },
      "execution_count": 6,
      "outputs": [
        {
          "output_type": "stream",
          "name": "stdout",
          "text": [
            "O valor de x é: 10\n"
          ]
        }
      ]
    },
    {
      "cell_type": "code",
      "source": [
        "# Imprima o nome e o sobrenome\n",
        "nome = \"Isabella\"\n",
        "sobrenome = \"Joaquim\"\n",
        "print(nome,sobrenome)"
      ],
      "metadata": {
        "colab": {
          "base_uri": "https://localhost:8080/"
        },
        "id": "JoEhe6TAyhx0",
        "outputId": "4a43c30a-5413-4241-af36-97b61a6ce41a"
      },
      "execution_count": 5,
      "outputs": [
        {
          "output_type": "stream",
          "name": "stdout",
          "text": [
            "Isabella Joaquim\n"
          ]
        }
      ]
    },
    {
      "cell_type": "code",
      "source": [
        "#Uso de funções e métodos\n",
        "num1 = int(input(\"Digite um valor:\"))\n",
        "num2 = int(input(\"Digite outro valor:\"))\n",
        "soma = num1 + num2\n",
        "subtracao = num1 - num2\n",
        "divisao = num1 / num2\n",
        "multiplicacao = num1 * num2\n",
        "print(\"A soma de\", num1, \"com\", num2,\"é:\",soma)\n",
        "print(\"A soma de\", num1, \"com\", num2,\"é:\",subtracao)\n",
        "print(\"A soma de\", num1, \"com\", num2,\"é:\",divisao)\n",
        "print(\"A soma de\", num1, \"com\", num2,\"é:\",multiplicacao)"
      ],
      "metadata": {
        "colab": {
          "base_uri": "https://localhost:8080/"
        },
        "id": "BJaO_Zgryr48",
        "outputId": "da98c699-8e7e-426b-9054-0a498bcd0cd4"
      },
      "execution_count": 4,
      "outputs": [
        {
          "output_type": "stream",
          "name": "stdout",
          "text": [
            "Digite um valor:7\n",
            "Digite outro valor:9\n",
            "A soma de 7 com 9 é: 16\n",
            "A soma de 7 com 9 é: -2\n",
            "A soma de 7 com 9 é: 0.7777777777777778\n",
            "A soma de 7 com 9 é: 63\n"
          ]
        }
      ]
    },
    {
      "cell_type": "code",
      "source": [
        "#Estrutura de seleção vulo IF ELSE\n",
        "import time\n",
        "nome = input(\"Qual o seu nome? \")\n",
        "anoNascimento = int(input(\"Em que ano você nasceu? \"))\n",
        "anoAtual = time.localtime().tm_year\n",
        "idade = anoAtual - anoNascimento\n",
        "if idade >= 18:\n",
        "    print(\"Você é maior de idade\")\n",
        "else:\n",
        "    print(\"Você é menor de idade\")"
      ],
      "metadata": {
        "colab": {
          "base_uri": "https://localhost:8080/"
        },
        "id": "o7rFCVX10eVV",
        "outputId": "a3fc8c9f-079b-42d6-9b5f-4db999d2347d"
      },
      "execution_count": 3,
      "outputs": [
        {
          "output_type": "stream",
          "name": "stdout",
          "text": [
            "Qual o seu nome? Isabella\n",
            "Em que ano você nasceu? 2007\n",
            "Você é menor de idade\n"
          ]
        }
      ]
    },
    {
      "cell_type": "code",
      "source": [
        "num1 = int(input(\"Digite um valor:\"))\n",
        "if num1 ==1:\n",
        "    print(\"O valor é 1\")\n",
        "elif num1 ==2:\n",
        "    print(\"O valor é 2\")\n",
        "elif num1 ==3:\n",
        "    print(\"O valor é 3\")\n",
        "elif num1 ==4:\n",
        "    print(\"O valor é 4\")\n",
        "elif num1 ==5:\n",
        "    print(\"O valor é 5\")\n",
        "else:\n",
        "    print(\"O valor não está entre 1 e 5\")"
      ],
      "metadata": {
        "colab": {
          "base_uri": "https://localhost:8080/"
        },
        "id": "biOUC6N32o5O",
        "outputId": "603665b9-e8cb-4e7f-fd8e-9a73bb819849"
      },
      "execution_count": 12,
      "outputs": [
        {
          "output_type": "stream",
          "name": "stdout",
          "text": [
            "Digite um valor:11\n",
            "O valor não está entre 1 e 5\n"
          ]
        }
      ]
    },
    {
      "cell_type": "code",
      "source": [
        "#Estrutura de repetição\n",
        "#for\n",
        "i = 1\n",
        "while i <= 10:\n",
        "    print(i)\n",
        "\n",
        "#while\n",
        "i = 1\n",
        "while i <= 10:\n",
        "    print(i)\n",
        "    i += 1"
      ],
      "metadata": {
        "colab": {
          "base_uri": "https://localhost:8080/",
          "height": 106
        },
        "id": "6JtlptAL4Ieo",
        "outputId": "b34f1050-e248-426e-a706-d62cacf37a92"
      },
      "execution_count": 16,
      "outputs": [
        {
          "output_type": "error",
          "ename": "SyntaxError",
          "evalue": "invalid syntax (<ipython-input-16-f8db9191bcb4>, line 9)",
          "traceback": [
            "\u001b[0;36m  File \u001b[0;32m\"<ipython-input-16-f8db9191bcb4>\"\u001b[0;36m, line \u001b[0;32m9\u001b[0m\n\u001b[0;31m    while  <= 10:\u001b[0m\n\u001b[0m           ^\u001b[0m\n\u001b[0;31mSyntaxError\u001b[0m\u001b[0;31m:\u001b[0m invalid syntax\n"
          ]
        }
      ]
    },
    {
      "cell_type": "code",
      "source": [
        "#Listas - o Python chama o array de listas\n",
        "valores = [1,2,3,4,5]\n",
        "print(valores) #imprimindo a lista inteira\n",
        "print(valores[2]) #imprimindo apenas a posição 2 da lista"
      ],
      "metadata": {
        "id": "G-AEP9z45kfH"
      },
      "execution_count": null,
      "outputs": []
    },
    {
      "cell_type": "code",
      "source": [
        "# dicionario de dados\n",
        "numeros = {'zero':0, 'um':1, 'dois':2,'três':3}\n",
        "print(numeros['dois'])\n",
        "for chave in numeros:\n",
        "    print(chave,numeros[chave])"
      ],
      "metadata": {
        "colab": {
          "base_uri": "https://localhost:8080/"
        },
        "id": "Iod36vQS6We6",
        "outputId": "bcf66131-dd97-48c2-8294-a1e0d724497d"
      },
      "execution_count": 18,
      "outputs": [
        {
          "output_type": "stream",
          "name": "stdout",
          "text": [
            "2\n",
            "zero 0\n",
            "um 1\n",
            "dois 2\n",
            "três 3\n"
          ]
        }
      ]
    },
    {
      "cell_type": "code",
      "source": [
        "# Funções em Python como declarar\n",
        "def soma(x,y):\n",
        "    return x + y\n",
        "print(soma(1,2))\n",
        "\n",
        "#Função com parâmetro opcional\n",
        "def hello(nome):\n",
        "    print(\"Olá\",nome)\n",
        "hello(\"Isabella\")"
      ],
      "metadata": {
        "colab": {
          "base_uri": "https://localhost:8080/"
        },
        "id": "opH8N9wD8Hr2",
        "outputId": "859dbfe3-d709-4cee-d141-70df864200f2"
      },
      "execution_count": 19,
      "outputs": [
        {
          "output_type": "stream",
          "name": "stdout",
          "text": [
            "3\n",
            "Olá Isabella\n"
          ]
        }
      ]
    },
    {
      "cell_type": "code",
      "source": [
        "#Faça uma calculadora pedindo 2 numeros, com as funções de soma, subtração, multiplicação, divisão imprimindo os resultados\n",
        "\n",
        "num1 = float(input(\"Digite o primeiro número: \"))\n",
        "num2 = float(input(\"Digite o segundo número: \"))\n",
        "\n",
        "def soma(num1, num2):\n",
        "    return num1 + num2\n",
        "\n",
        "def subtracao(num1, num2):\n",
        "    return num1 - num2\n",
        "\n",
        "def multiplicacao(num1, num2):\n",
        "    return num1 * num2\n",
        "\n",
        "def divisao(num1, y):\n",
        "    if num2 == 0:\n",
        "        return \"Divisão por zero!\"\n",
        "    else:\n",
        "        return num1 / num2\n",
        "\n",
        "print(\"Soma:\", soma(num1, num2))\n",
        "print(\"Subtração:\", subtracao(num1, num2))\n",
        "print(\"Multiplicação:\", multiplicacao(num1, num2))\n",
        "print(\"Divisão:\", divisao(num1, num2))"
      ],
      "metadata": {
        "id": "OPqJ7Vb5975X"
      },
      "execution_count": null,
      "outputs": []
    },
    {
      "cell_type": "code",
      "source": [
        "#Faça um exercicio para calcular a media entre 2 notas de um aluno\n",
        "\n",
        "nota1 = float(input(\"Digite a primeira nota: \"))\n",
        "nota2 = float(input(\"Digite a segunda nota: \"))\n",
        "\n",
        "media = (nota1 + nota2) / 2\n",
        "\n",
        "print(\"A média do aluno é:\", media)"
      ],
      "metadata": {
        "id": "toO1cRKs-oB4"
      },
      "execution_count": null,
      "outputs": []
    }
  ]
}